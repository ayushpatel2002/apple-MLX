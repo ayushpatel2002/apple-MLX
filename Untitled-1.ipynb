{
 "cells": [
  {
   "cell_type": "code",
   "execution_count": 6,
   "metadata": {},
   "outputs": [
    {
     "name": "stdout",
     "output_type": "stream",
     "text": [
      "Defaulting to user installation because normal site-packages is not writeable\n",
      "Requirement already satisfied: mlx>=0.1 in /Users/ayushpatel/Library/Python/3.9/lib/python/site-packages (from -r requirements.txt (line 1)) (0.2.0)\n",
      "Collecting safetensors (from -r requirements.txt (line 2))\n",
      "  Obtaining dependency information for safetensors from https://files.pythonhosted.org/packages/9f/bd/8de868b08fd9322d034035f43162e592f55a8cfd8120714152ebd4bfd349/safetensors-0.4.2-cp39-cp39-macosx_11_0_arm64.whl.metadata\n",
      "  Downloading safetensors-0.4.2-cp39-cp39-macosx_11_0_arm64.whl.metadata (3.8 kB)\n",
      "Collecting huggingface-hub (from -r requirements.txt (line 3))\n",
      "  Obtaining dependency information for huggingface-hub from https://files.pythonhosted.org/packages/28/03/7d3c7153113ec59cfb31e3b8ee773f5f420a0dd7d26d40442542b96675c3/huggingface_hub-0.20.3-py3-none-any.whl.metadata\n",
      "  Downloading huggingface_hub-0.20.3-py3-none-any.whl.metadata (12 kB)\n",
      "Requirement already satisfied: regex in /Users/ayushpatel/Library/Python/3.9/lib/python/site-packages (from -r requirements.txt (line 4)) (2023.8.8)\n",
      "Requirement already satisfied: numpy in /Users/ayushpatel/Library/Python/3.9/lib/python/site-packages (from -r requirements.txt (line 5)) (1.25.2)\n",
      "Requirement already satisfied: tqdm in /Users/ayushpatel/Library/Python/3.9/lib/python/site-packages (from -r requirements.txt (line 6)) (4.66.1)\n",
      "Requirement already satisfied: Pillow in /Users/ayushpatel/Library/Python/3.9/lib/python/site-packages (from -r requirements.txt (line 7)) (9.5.0)\n",
      "Collecting filelock (from huggingface-hub->-r requirements.txt (line 3))\n",
      "  Obtaining dependency information for filelock from https://files.pythonhosted.org/packages/81/54/84d42a0bee35edba99dee7b59a8d4970eccdd44b99fe728ed912106fc781/filelock-3.13.1-py3-none-any.whl.metadata\n",
      "  Downloading filelock-3.13.1-py3-none-any.whl.metadata (2.8 kB)\n",
      "Collecting fsspec>=2023.5.0 (from huggingface-hub->-r requirements.txt (line 3))\n",
      "  Obtaining dependency information for fsspec>=2023.5.0 from https://files.pythonhosted.org/packages/ad/30/2281c062222dc39328843bd1ddd30ff3005ef8e30b2fd09c4d2792766061/fsspec-2024.2.0-py3-none-any.whl.metadata\n",
      "  Downloading fsspec-2024.2.0-py3-none-any.whl.metadata (6.8 kB)\n",
      "Requirement already satisfied: requests in /Users/ayushpatel/Library/Python/3.9/lib/python/site-packages (from huggingface-hub->-r requirements.txt (line 3)) (2.31.0)\n",
      "Requirement already satisfied: pyyaml>=5.1 in /Users/ayushpatel/Library/Python/3.9/lib/python/site-packages (from huggingface-hub->-r requirements.txt (line 3)) (6.0.1)\n",
      "Requirement already satisfied: typing-extensions>=3.7.4.3 in /Users/ayushpatel/Library/Python/3.9/lib/python/site-packages (from huggingface-hub->-r requirements.txt (line 3)) (4.5.0)\n",
      "Requirement already satisfied: packaging>=20.9 in /Users/ayushpatel/Library/Python/3.9/lib/python/site-packages (from huggingface-hub->-r requirements.txt (line 3)) (23.1)\n",
      "Requirement already satisfied: charset-normalizer<4,>=2 in /Users/ayushpatel/Library/Python/3.9/lib/python/site-packages (from requests->huggingface-hub->-r requirements.txt (line 3)) (3.2.0)\n",
      "Requirement already satisfied: idna<4,>=2.5 in /Users/ayushpatel/Library/Python/3.9/lib/python/site-packages (from requests->huggingface-hub->-r requirements.txt (line 3)) (3.4)\n",
      "Requirement already satisfied: urllib3<3,>=1.21.1 in /Users/ayushpatel/Library/Python/3.9/lib/python/site-packages (from requests->huggingface-hub->-r requirements.txt (line 3)) (1.26.16)\n",
      "Requirement already satisfied: certifi>=2017.4.17 in /Users/ayushpatel/Library/Python/3.9/lib/python/site-packages (from requests->huggingface-hub->-r requirements.txt (line 3)) (2023.7.22)\n",
      "Downloading safetensors-0.4.2-cp39-cp39-macosx_11_0_arm64.whl (394 kB)\n",
      "\u001b[2K   \u001b[90m━━━━━━━━━━━━━━━━━━━━━━━━━━━━━━━━━━━━━━━━\u001b[0m \u001b[32m394.9/394.9 kB\u001b[0m \u001b[31m5.2 MB/s\u001b[0m eta \u001b[36m0:00:00\u001b[0ma \u001b[36m0:00:01\u001b[0m\n",
      "\u001b[?25hDownloading huggingface_hub-0.20.3-py3-none-any.whl (330 kB)\n",
      "\u001b[2K   \u001b[90m━━━━━━━━━━━━━━━━━━━━━━━━━━━━━━━━━━━━━━━━\u001b[0m \u001b[32m330.1/330.1 kB\u001b[0m \u001b[31m6.7 MB/s\u001b[0m eta \u001b[36m0:00:00\u001b[0ma \u001b[36m0:00:01\u001b[0m\n",
      "\u001b[?25hDownloading fsspec-2024.2.0-py3-none-any.whl (170 kB)\n",
      "\u001b[2K   \u001b[90m━━━━━━━━━━━━━━━━━━━━━━━━━━━━━━━━━━━━━━━━\u001b[0m \u001b[32m170.9/170.9 kB\u001b[0m \u001b[31m8.2 MB/s\u001b[0m eta \u001b[36m0:00:00\u001b[0m\n",
      "\u001b[?25hDownloading filelock-3.13.1-py3-none-any.whl (11 kB)\n",
      "Installing collected packages: safetensors, fsspec, filelock, huggingface-hub\n",
      "Successfully installed filelock-3.13.1 fsspec-2024.2.0 huggingface-hub-0.20.3 safetensors-0.4.2\n",
      "\n",
      "\u001b[1m[\u001b[0m\u001b[34;49mnotice\u001b[0m\u001b[1;39;49m]\u001b[0m\u001b[39;49m A new release of pip is available: \u001b[0m\u001b[31;49m23.2.1\u001b[0m\u001b[39;49m -> \u001b[0m\u001b[32;49m24.0\u001b[0m\n",
      "\u001b[1m[\u001b[0m\u001b[34;49mnotice\u001b[0m\u001b[1;39;49m]\u001b[0m\u001b[39;49m To update, run: \u001b[0m\u001b[32;49m/Library/Developer/CommandLineTools/usr/bin/python3 -m pip install --upgrade pip\u001b[0m\n",
      "Note: you may need to restart the kernel to use updated packages.\n"
     ]
    }
   ],
   "source": [
    "pip install -r requirements.txt"
   ]
  },
  {
   "cell_type": "code",
   "execution_count": 2,
   "metadata": {},
   "outputs": [
    {
     "data": {
      "application/vnd.jupyter.widget-view+json": {
       "model_id": "385790f62ada41158aaa9360f1c1f33e",
       "version_major": 2,
       "version_minor": 0
      },
      "text/plain": [
       "scheduler/scheduler_config.json:   0%|          | 0.00/346 [00:00<?, ?B/s]"
      ]
     },
     "metadata": {},
     "output_type": "display_data"
    },
    {
     "data": {
      "application/vnd.jupyter.widget-view+json": {
       "model_id": "7a768675c6984ba29083d7bbb45229e1",
       "version_major": 2,
       "version_minor": 0
      },
      "text/plain": [
       "unet/config.json:   0%|          | 0.00/911 [00:00<?, ?B/s]"
      ]
     },
     "metadata": {},
     "output_type": "display_data"
    },
    {
     "data": {
      "application/vnd.jupyter.widget-view+json": {
       "model_id": "ded030273f094a3f955923aac0335bc0",
       "version_major": 2,
       "version_minor": 0
      },
      "text/plain": [
       "diffusion_pytorch_model.safetensors:   0%|          | 0.00/3.46G [00:00<?, ?B/s]"
      ]
     },
     "metadata": {},
     "output_type": "display_data"
    },
    {
     "data": {
      "application/vnd.jupyter.widget-view+json": {
       "model_id": "08fe8ab4972347e6ad8a9a961a952d46",
       "version_major": 2,
       "version_minor": 0
      },
      "text/plain": [
       "text_encoder/config.json:   0%|          | 0.00/613 [00:00<?, ?B/s]"
      ]
     },
     "metadata": {},
     "output_type": "display_data"
    },
    {
     "data": {
      "application/vnd.jupyter.widget-view+json": {
       "model_id": "8aa2f12611b24da3a4e56330da5c1975",
       "version_major": 2,
       "version_minor": 0
      },
      "text/plain": [
       "model.safetensors:   0%|          | 0.00/1.36G [00:00<?, ?B/s]"
      ]
     },
     "metadata": {},
     "output_type": "display_data"
    },
    {
     "data": {
      "application/vnd.jupyter.widget-view+json": {
       "model_id": "f663120e84e148148b182a9dbcb69ae1",
       "version_major": 2,
       "version_minor": 0
      },
      "text/plain": [
       "vae/config.json:   0%|          | 0.00/553 [00:00<?, ?B/s]"
      ]
     },
     "metadata": {},
     "output_type": "display_data"
    },
    {
     "data": {
      "application/vnd.jupyter.widget-view+json": {
       "model_id": "3358a8f6fb274c35a41d79c9660847b6",
       "version_major": 2,
       "version_minor": 0
      },
      "text/plain": [
       "diffusion_pytorch_model.safetensors:   0%|          | 0.00/335M [00:00<?, ?B/s]"
      ]
     },
     "metadata": {},
     "output_type": "display_data"
    },
    {
     "data": {
      "application/vnd.jupyter.widget-view+json": {
       "model_id": "6fa6092274834fc6bef399a4e1ff1052",
       "version_major": 2,
       "version_minor": 0
      },
      "text/plain": [
       "tokenizer/vocab.json:   0%|          | 0.00/1.06M [00:00<?, ?B/s]"
      ]
     },
     "metadata": {},
     "output_type": "display_data"
    },
    {
     "data": {
      "application/vnd.jupyter.widget-view+json": {
       "model_id": "ec7fde6e4db54d73a256e5ac49f5453a",
       "version_major": 2,
       "version_minor": 0
      },
      "text/plain": [
       "tokenizer/merges.txt:   0%|          | 0.00/525k [00:00<?, ?B/s]"
      ]
     },
     "metadata": {},
     "output_type": "display_data"
    }
   ],
   "source": [
    "import mlx.core as mx\n",
    "from stable_diffusion import StableDiffusion\n",
    "\n",
    "# This will download all the weights from HF hub and load the models in\n",
    "# memory\n",
    "sd = StableDiffusion()\n",
    "\n",
    "# This creates a python generator that returns the latent produced by the\n",
    "# reverse diffusion process.\n",
    "#\n",
    "# Because MLX is lazily evaluated iterating over this generator doesn't\n",
    "# actually perform the computation until mx.eval() is called.\n",
    "latent_generator = sd.generate_latents(\"A photo of an astronaut riding a horse on Mars.\")\n",
    "\n",
    "# Here we are evaluating each diffusion step but we could also evaluate\n",
    "# once at the end.\n",
    "for x_t in latent_generator:\n",
    "    mx.eval(x_t)\n",
    "\n",
    "# Now x_t is the last latent from the reverse process aka x_0. We can\n",
    "# decode it into an image using the stable diffusion VAE.\n",
    "im = sd.decode(x_t)"
   ]
  }
 ],
 "metadata": {
  "kernelspec": {
   "display_name": "Python 3",
   "language": "python",
   "name": "python3"
  },
  "language_info": {
   "codemirror_mode": {
    "name": "ipython",
    "version": 3
   },
   "file_extension": ".py",
   "mimetype": "text/x-python",
   "name": "python",
   "nbconvert_exporter": "python",
   "pygments_lexer": "ipython3",
   "version": "3.9.6"
  }
 },
 "nbformat": 4,
 "nbformat_minor": 2
}
